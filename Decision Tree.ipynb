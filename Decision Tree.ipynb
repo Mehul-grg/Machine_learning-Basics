{
 "cells": [
  {
   "cell_type": "code",
   "execution_count": 3,
   "id": "55ba4409",
   "metadata": {},
   "outputs": [],
   "source": [
    "import warnings\n",
    "warnings.simplefilter('ignore')"
   ]
  },
  {
   "cell_type": "code",
   "execution_count": 7,
   "id": "8b7bc6ac",
   "metadata": {},
   "outputs": [],
   "source": [
    "import pandas as pd\n",
    "import numpy as np"
   ]
  },
  {
   "cell_type": "code",
   "execution_count": 9,
   "id": "80fce64b",
   "metadata": {},
   "outputs": [],
   "source": [
    "import seaborn as sns"
   ]
  },
  {
   "cell_type": "code",
   "execution_count": 11,
   "id": "6abb7ae0",
   "metadata": {},
   "outputs": [],
   "source": [
    "student_certification=pd.read_excel('student_dataset.xlsx')"
   ]
  },
  {
   "cell_type": "code",
   "execution_count": 12,
   "id": "c1c71807",
   "metadata": {},
   "outputs": [
    {
     "data": {
      "text/html": [
       "<div>\n",
       "<style scoped>\n",
       "    .dataframe tbody tr th:only-of-type {\n",
       "        vertical-align: middle;\n",
       "    }\n",
       "\n",
       "    .dataframe tbody tr th {\n",
       "        vertical-align: top;\n",
       "    }\n",
       "\n",
       "    .dataframe thead th {\n",
       "        text-align: right;\n",
       "    }\n",
       "</style>\n",
       "<table border=\"1\" class=\"dataframe\">\n",
       "  <thead>\n",
       "    <tr style=\"text-align: right;\">\n",
       "      <th></th>\n",
       "      <th>S.NO</th>\n",
       "      <th>ATTENDANCE</th>\n",
       "      <th>THEORY EXAM</th>\n",
       "      <th>DAILY ASSESSMENT</th>\n",
       "      <th>TOTAL</th>\n",
       "      <th>CERTIFICATE</th>\n",
       "    </tr>\n",
       "  </thead>\n",
       "  <tbody>\n",
       "    <tr>\n",
       "      <th>0</th>\n",
       "      <td>1.0</td>\n",
       "      <td>20.0</td>\n",
       "      <td>38.0</td>\n",
       "      <td>25.0</td>\n",
       "      <td>83</td>\n",
       "      <td>DISTINCTION</td>\n",
       "    </tr>\n",
       "    <tr>\n",
       "      <th>1</th>\n",
       "      <td>2.0</td>\n",
       "      <td>15.0</td>\n",
       "      <td>25.0</td>\n",
       "      <td>0.0</td>\n",
       "      <td>40</td>\n",
       "      <td>COMPLETION</td>\n",
       "    </tr>\n",
       "    <tr>\n",
       "      <th>2</th>\n",
       "      <td>3.0</td>\n",
       "      <td>20.0</td>\n",
       "      <td>31.0</td>\n",
       "      <td>25.0</td>\n",
       "      <td>76</td>\n",
       "      <td>FIRST CLASS</td>\n",
       "    </tr>\n",
       "    <tr>\n",
       "      <th>3</th>\n",
       "      <td>4.0</td>\n",
       "      <td>20.0</td>\n",
       "      <td>25.0</td>\n",
       "      <td>25.0</td>\n",
       "      <td>70</td>\n",
       "      <td>FIRST CLASS</td>\n",
       "    </tr>\n",
       "    <tr>\n",
       "      <th>4</th>\n",
       "      <td>5.0</td>\n",
       "      <td>20.0</td>\n",
       "      <td>17.0</td>\n",
       "      <td>15.0</td>\n",
       "      <td>52</td>\n",
       "      <td>FIRST CLASS</td>\n",
       "    </tr>\n",
       "    <tr>\n",
       "      <th>...</th>\n",
       "      <td>...</td>\n",
       "      <td>...</td>\n",
       "      <td>...</td>\n",
       "      <td>...</td>\n",
       "      <td>...</td>\n",
       "      <td>...</td>\n",
       "    </tr>\n",
       "    <tr>\n",
       "      <th>362</th>\n",
       "      <td>363.0</td>\n",
       "      <td>15.0</td>\n",
       "      <td>0.0</td>\n",
       "      <td>10.0</td>\n",
       "      <td>25</td>\n",
       "      <td>PARTICIPATION</td>\n",
       "    </tr>\n",
       "    <tr>\n",
       "      <th>363</th>\n",
       "      <td>364.0</td>\n",
       "      <td>20.0</td>\n",
       "      <td>9.0</td>\n",
       "      <td>25.0</td>\n",
       "      <td>54</td>\n",
       "      <td>COMPLETION</td>\n",
       "    </tr>\n",
       "    <tr>\n",
       "      <th>364</th>\n",
       "      <td>365.0</td>\n",
       "      <td>15.0</td>\n",
       "      <td>20.0</td>\n",
       "      <td>25.0</td>\n",
       "      <td>60</td>\n",
       "      <td>FIRST CLASS</td>\n",
       "    </tr>\n",
       "    <tr>\n",
       "      <th>365</th>\n",
       "      <td>366.0</td>\n",
       "      <td>15.0</td>\n",
       "      <td>0.0</td>\n",
       "      <td>10.0</td>\n",
       "      <td>25</td>\n",
       "      <td>PARTICIPATION</td>\n",
       "    </tr>\n",
       "    <tr>\n",
       "      <th>366</th>\n",
       "      <td>367.0</td>\n",
       "      <td>20.0</td>\n",
       "      <td>23.0</td>\n",
       "      <td>10.0</td>\n",
       "      <td>53</td>\n",
       "      <td>COMPLETION</td>\n",
       "    </tr>\n",
       "  </tbody>\n",
       "</table>\n",
       "<p>367 rows × 6 columns</p>\n",
       "</div>"
      ],
      "text/plain": [
       "      S.NO  ATTENDANCE  THEORY EXAM  DAILY ASSESSMENT  TOTAL    CERTIFICATE\n",
       "0      1.0        20.0         38.0              25.0     83    DISTINCTION\n",
       "1      2.0        15.0         25.0               0.0     40     COMPLETION\n",
       "2      3.0        20.0         31.0              25.0     76    FIRST CLASS\n",
       "3      4.0        20.0         25.0              25.0     70    FIRST CLASS\n",
       "4      5.0        20.0         17.0              15.0     52    FIRST CLASS\n",
       "..     ...         ...          ...               ...    ...            ...\n",
       "362  363.0        15.0          0.0              10.0     25  PARTICIPATION\n",
       "363  364.0        20.0          9.0              25.0     54     COMPLETION\n",
       "364  365.0        15.0         20.0              25.0     60    FIRST CLASS\n",
       "365  366.0        15.0          0.0              10.0     25  PARTICIPATION\n",
       "366  367.0        20.0         23.0              10.0     53     COMPLETION\n",
       "\n",
       "[367 rows x 6 columns]"
      ]
     },
     "execution_count": 12,
     "metadata": {},
     "output_type": "execute_result"
    }
   ],
   "source": [
    "student_certification"
   ]
  },
  {
   "cell_type": "code",
   "execution_count": 13,
   "id": "e77dd984",
   "metadata": {},
   "outputs": [],
   "source": [
    "student_certification = student_certification.drop(['S.NO',\"TOTAL\"],axis=1)"
   ]
  },
  {
   "cell_type": "code",
   "execution_count": 14,
   "id": "47cbb91c",
   "metadata": {},
   "outputs": [
    {
     "data": {
      "text/html": [
       "<div>\n",
       "<style scoped>\n",
       "    .dataframe tbody tr th:only-of-type {\n",
       "        vertical-align: middle;\n",
       "    }\n",
       "\n",
       "    .dataframe tbody tr th {\n",
       "        vertical-align: top;\n",
       "    }\n",
       "\n",
       "    .dataframe thead th {\n",
       "        text-align: right;\n",
       "    }\n",
       "</style>\n",
       "<table border=\"1\" class=\"dataframe\">\n",
       "  <thead>\n",
       "    <tr style=\"text-align: right;\">\n",
       "      <th></th>\n",
       "      <th>ATTENDANCE</th>\n",
       "      <th>THEORY EXAM</th>\n",
       "      <th>DAILY ASSESSMENT</th>\n",
       "      <th>CERTIFICATE</th>\n",
       "    </tr>\n",
       "  </thead>\n",
       "  <tbody>\n",
       "    <tr>\n",
       "      <th>0</th>\n",
       "      <td>20.0</td>\n",
       "      <td>38.0</td>\n",
       "      <td>25.0</td>\n",
       "      <td>DISTINCTION</td>\n",
       "    </tr>\n",
       "    <tr>\n",
       "      <th>1</th>\n",
       "      <td>15.0</td>\n",
       "      <td>25.0</td>\n",
       "      <td>0.0</td>\n",
       "      <td>COMPLETION</td>\n",
       "    </tr>\n",
       "    <tr>\n",
       "      <th>2</th>\n",
       "      <td>20.0</td>\n",
       "      <td>31.0</td>\n",
       "      <td>25.0</td>\n",
       "      <td>FIRST CLASS</td>\n",
       "    </tr>\n",
       "    <tr>\n",
       "      <th>3</th>\n",
       "      <td>20.0</td>\n",
       "      <td>25.0</td>\n",
       "      <td>25.0</td>\n",
       "      <td>FIRST CLASS</td>\n",
       "    </tr>\n",
       "    <tr>\n",
       "      <th>4</th>\n",
       "      <td>20.0</td>\n",
       "      <td>17.0</td>\n",
       "      <td>15.0</td>\n",
       "      <td>FIRST CLASS</td>\n",
       "    </tr>\n",
       "    <tr>\n",
       "      <th>...</th>\n",
       "      <td>...</td>\n",
       "      <td>...</td>\n",
       "      <td>...</td>\n",
       "      <td>...</td>\n",
       "    </tr>\n",
       "    <tr>\n",
       "      <th>362</th>\n",
       "      <td>15.0</td>\n",
       "      <td>0.0</td>\n",
       "      <td>10.0</td>\n",
       "      <td>PARTICIPATION</td>\n",
       "    </tr>\n",
       "    <tr>\n",
       "      <th>363</th>\n",
       "      <td>20.0</td>\n",
       "      <td>9.0</td>\n",
       "      <td>25.0</td>\n",
       "      <td>COMPLETION</td>\n",
       "    </tr>\n",
       "    <tr>\n",
       "      <th>364</th>\n",
       "      <td>15.0</td>\n",
       "      <td>20.0</td>\n",
       "      <td>25.0</td>\n",
       "      <td>FIRST CLASS</td>\n",
       "    </tr>\n",
       "    <tr>\n",
       "      <th>365</th>\n",
       "      <td>15.0</td>\n",
       "      <td>0.0</td>\n",
       "      <td>10.0</td>\n",
       "      <td>PARTICIPATION</td>\n",
       "    </tr>\n",
       "    <tr>\n",
       "      <th>366</th>\n",
       "      <td>20.0</td>\n",
       "      <td>23.0</td>\n",
       "      <td>10.0</td>\n",
       "      <td>COMPLETION</td>\n",
       "    </tr>\n",
       "  </tbody>\n",
       "</table>\n",
       "<p>367 rows × 4 columns</p>\n",
       "</div>"
      ],
      "text/plain": [
       "     ATTENDANCE  THEORY EXAM  DAILY ASSESSMENT    CERTIFICATE\n",
       "0          20.0         38.0              25.0    DISTINCTION\n",
       "1          15.0         25.0               0.0     COMPLETION\n",
       "2          20.0         31.0              25.0    FIRST CLASS\n",
       "3          20.0         25.0              25.0    FIRST CLASS\n",
       "4          20.0         17.0              15.0    FIRST CLASS\n",
       "..          ...          ...               ...            ...\n",
       "362        15.0          0.0              10.0  PARTICIPATION\n",
       "363        20.0          9.0              25.0     COMPLETION\n",
       "364        15.0         20.0              25.0    FIRST CLASS\n",
       "365        15.0          0.0              10.0  PARTICIPATION\n",
       "366        20.0         23.0              10.0     COMPLETION\n",
       "\n",
       "[367 rows x 4 columns]"
      ]
     },
     "execution_count": 14,
     "metadata": {},
     "output_type": "execute_result"
    }
   ],
   "source": [
    "student_certification"
   ]
  },
  {
   "cell_type": "code",
   "execution_count": 15,
   "id": "3f13730a",
   "metadata": {},
   "outputs": [
    {
     "data": {
      "text/plain": [
       "(367, 4)"
      ]
     },
     "execution_count": 15,
     "metadata": {},
     "output_type": "execute_result"
    }
   ],
   "source": [
    "student_certification.shape"
   ]
  },
  {
   "cell_type": "code",
   "execution_count": 16,
   "id": "dc515194",
   "metadata": {},
   "outputs": [
    {
     "data": {
      "text/html": [
       "<div>\n",
       "<style scoped>\n",
       "    .dataframe tbody tr th:only-of-type {\n",
       "        vertical-align: middle;\n",
       "    }\n",
       "\n",
       "    .dataframe tbody tr th {\n",
       "        vertical-align: top;\n",
       "    }\n",
       "\n",
       "    .dataframe thead th {\n",
       "        text-align: right;\n",
       "    }\n",
       "</style>\n",
       "<table border=\"1\" class=\"dataframe\">\n",
       "  <thead>\n",
       "    <tr style=\"text-align: right;\">\n",
       "      <th></th>\n",
       "      <th>ATTENDANCE</th>\n",
       "      <th>THEORY EXAM</th>\n",
       "      <th>DAILY ASSESSMENT</th>\n",
       "      <th>CERTIFICATE</th>\n",
       "    </tr>\n",
       "  </thead>\n",
       "  <tbody>\n",
       "    <tr>\n",
       "      <th>0</th>\n",
       "      <td>20.0</td>\n",
       "      <td>38.0</td>\n",
       "      <td>25.0</td>\n",
       "      <td>DISTINCTION</td>\n",
       "    </tr>\n",
       "    <tr>\n",
       "      <th>1</th>\n",
       "      <td>15.0</td>\n",
       "      <td>25.0</td>\n",
       "      <td>0.0</td>\n",
       "      <td>COMPLETION</td>\n",
       "    </tr>\n",
       "    <tr>\n",
       "      <th>2</th>\n",
       "      <td>20.0</td>\n",
       "      <td>31.0</td>\n",
       "      <td>25.0</td>\n",
       "      <td>FIRST CLASS</td>\n",
       "    </tr>\n",
       "    <tr>\n",
       "      <th>3</th>\n",
       "      <td>20.0</td>\n",
       "      <td>25.0</td>\n",
       "      <td>25.0</td>\n",
       "      <td>FIRST CLASS</td>\n",
       "    </tr>\n",
       "    <tr>\n",
       "      <th>4</th>\n",
       "      <td>20.0</td>\n",
       "      <td>17.0</td>\n",
       "      <td>15.0</td>\n",
       "      <td>FIRST CLASS</td>\n",
       "    </tr>\n",
       "  </tbody>\n",
       "</table>\n",
       "</div>"
      ],
      "text/plain": [
       "   ATTENDANCE  THEORY EXAM  DAILY ASSESSMENT  CERTIFICATE\n",
       "0        20.0         38.0              25.0  DISTINCTION\n",
       "1        15.0         25.0               0.0   COMPLETION\n",
       "2        20.0         31.0              25.0  FIRST CLASS\n",
       "3        20.0         25.0              25.0  FIRST CLASS\n",
       "4        20.0         17.0              15.0  FIRST CLASS"
      ]
     },
     "execution_count": 16,
     "metadata": {},
     "output_type": "execute_result"
    }
   ],
   "source": [
    "student_certification.head()"
   ]
  },
  {
   "cell_type": "code",
   "execution_count": 17,
   "id": "6b71e9bb",
   "metadata": {},
   "outputs": [
    {
     "data": {
      "text/plain": [
       "array(['DISTINCTION', 'COMPLETION', 'FIRST CLASS', 'PARTICIPATION'],\n",
       "      dtype=object)"
      ]
     },
     "execution_count": 17,
     "metadata": {},
     "output_type": "execute_result"
    }
   ],
   "source": [
    "student_certification['CERTIFICATE'].unique()"
   ]
  },
  {
   "cell_type": "code",
   "execution_count": 18,
   "id": "428ba89d",
   "metadata": {},
   "outputs": [
    {
     "data": {
      "text/plain": [
       "CERTIFICATE\n",
       "COMPLETION       117\n",
       "DISTINCTION       32\n",
       "FIRST CLASS       67\n",
       "PARTICIPATION    151\n",
       "dtype: int64"
      ]
     },
     "execution_count": 18,
     "metadata": {},
     "output_type": "execute_result"
    }
   ],
   "source": [
    "student_certification.groupby('CERTIFICATE').size()"
   ]
  },
  {
   "cell_type": "code",
   "execution_count": 19,
   "id": "c40aed64",
   "metadata": {},
   "outputs": [
    {
     "data": {
      "text/plain": [
       "<AxesSubplot:xlabel='CERTIFICATE', ylabel='count'>"
      ]
     },
     "execution_count": 19,
     "metadata": {},
     "output_type": "execute_result"
    },
    {
     "data": {
      "image/png": "[encoded data removed]",
      "text/plain": [
       "<Figure size 432x288 with 1 Axes>"
      ]
     },
     "metadata": {
      "needs_background": "light"
     },
     "output_type": "display_data"
    }
   ],
   "source": [
    "sns.countplot(student_certification['CERTIFICATE'],label=\"Count\")"
   ]
  },
  {
   "cell_type": "code",
   "execution_count": 20,
   "id": "f1ae2295",
   "metadata": {},
   "outputs": [],
   "source": [
    "y=student_certification.iloc[:,-1].values.reshape(-1,1)"
   ]
  },
  {
   "cell_type": "code",
   "execution_count": 21,
   "id": "5127b453",
   "metadata": {},
   "outputs": [
    {
     "data": {
      "text/plain": [
       "(367, 1)"
      ]
     },
     "execution_count": 21,
     "metadata": {},
     "output_type": "execute_result"
    }
   ],
   "source": [
    "y.shape"
   ]
  },
  {
   "cell_type": "code",
   "execution_count": 22,
   "id": "c97ead18",
   "metadata": {},
   "outputs": [
    {
     "data": {
      "text/plain": [
       "array([['DISTINCTION'],\n",
       "       ['COMPLETION'],\n",
       "       ['FIRST CLASS'],\n",
       "       ['FIRST CLASS'],\n",
       "       ['FIRST CLASS'],\n",
       "       ['COMPLETION'],\n",
       "       ['FIRST CLASS'],\n",
       "       ['FIRST CLASS'],\n",
       "       ['COMPLETION'],\n",
       "       ['FIRST CLASS'],\n",
       "       ['COMPLETION'],\n",
       "       ['FIRST CLASS'],\n",
       "       ['FIRST CLASS'],\n",
       "       ['FIRST CLASS'],\n",
       "       ['COMPLETION'],\n",
       "       ['PARTICIPATION'],\n",
       "       ['COMPLETION'],\n",
       "       ['COMPLETION'],\n",
       "       ['FIRST CLASS'],\n",
       "       ['COMPLETION'],\n",
       "       ['FIRST CLASS'],\n",
       "       ['DISTINCTION'],\n",
       "       ['FIRST CLASS'],\n",
       "       ['PARTICIPATION'],\n",
       "       ['DISTINCTION'],\n",
       "       ['COMPLETION'],\n",
       "       ['FIRST CLASS'],\n",
       "       ['DISTINCTION'],\n",
       "       ['FIRST CLASS'],\n",
       "       ['DISTINCTION'],\n",
       "       ['COMPLETION'],\n",
       "       ['COMPLETION'],\n",
       "       ['COMPLETION'],\n",
       "       ['PARTICIPATION'],\n",
       "       ['FIRST CLASS'],\n",
       "       ['COMPLETION'],\n",
       "       ['COMPLETION'],\n",
       "       ['COMPLETION'],\n",
       "       ['DISTINCTION'],\n",
       "       ['FIRST CLASS'],\n",
       "       ['DISTINCTION'],\n",
       "       ['COMPLETION'],\n",
       "       ['DISTINCTION'],\n",
       "       ['DISTINCTION'],\n",
       "       ['FIRST CLASS'],\n",
       "       ['COMPLETION'],\n",
       "       ['COMPLETION'],\n",
       "       ['COMPLETION'],\n",
       "       ['PARTICIPATION'],\n",
       "       ['COMPLETION'],\n",
       "       ['DISTINCTION'],\n",
       "       ['FIRST CLASS'],\n",
       "       ['FIRST CLASS'],\n",
       "       ['FIRST CLASS'],\n",
       "       ['COMPLETION'],\n",
       "       ['PARTICIPATION'],\n",
       "       ['COMPLETION'],\n",
       "       ['FIRST CLASS'],\n",
       "       ['COMPLETION'],\n",
       "       ['DISTINCTION'],\n",
       "       ['FIRST CLASS'],\n",
       "       ['FIRST CLASS'],\n",
       "       ['FIRST CLASS'],\n",
       "       ['DISTINCTION'],\n",
       "       ['COMPLETION'],\n",
       "       ['PARTICIPATION'],\n",
       "       ['DISTINCTION'],\n",
       "       ['COMPLETION'],\n",
       "       ['PARTICIPATION'],\n",
       "       ['PARTICIPATION'],\n",
       "       ['COMPLETION'],\n",
       "       ['PARTICIPATION'],\n",
       "       ['DISTINCTION'],\n",
       "       ['PARTICIPATION'],\n",
       "       ['COMPLETION'],\n",
       "       ['COMPLETION'],\n",
       "       ['PARTICIPATION'],\n",
       "       ['PARTICIPATION'],\n",
       "       ['PARTICIPATION'],\n",
       "       ['PARTICIPATION'],\n",
       "       ['DISTINCTION'],\n",
       "       ['COMPLETION'],\n",
       "       ['FIRST CLASS'],\n",
       "       ['COMPLETION'],\n",
       "       ['PARTICIPATION'],\n",
       "       ['PARTICIPATION'],\n",
       "       ['COMPLETION'],\n",
       "       ['PARTICIPATION'],\n",
       "       ['PARTICIPATION'],\n",
       "       ['FIRST CLASS'],\n",
       "       ['PARTICIPATION'],\n",
       "       ['PARTICIPATION'],\n",
       "       ['PARTICIPATION'],\n",
       "       ['FIRST CLASS'],\n",
       "       ['FIRST CLASS'],\n",
       "       ['COMPLETION'],\n",
       "       ['FIRST CLASS'],\n",
       "       ['COMPLETION'],\n",
       "       ['COMPLETION'],\n",
       "       ['DISTINCTION'],\n",
       "       ['COMPLETION'],\n",
       "       ['DISTINCTION'],\n",
       "       ['DISTINCTION'],\n",
       "       ['FIRST CLASS'],\n",
       "       ['DISTINCTION'],\n",
       "       ['FIRST CLASS'],\n",
       "       ['PARTICIPATION'],\n",
       "       ['DISTINCTION'],\n",
       "       ['COMPLETION'],\n",
       "       ['PARTICIPATION'],\n",
       "       ['PARTICIPATION'],\n",
       "       ['DISTINCTION'],\n",
       "       ['PARTICIPATION'],\n",
       "       ['COMPLETION'],\n",
       "       ['PARTICIPATION'],\n",
       "       ['COMPLETION'],\n",
       "       ['COMPLETION'],\n",
       "       ['PARTICIPATION'],\n",
       "       ['COMPLETION'],\n",
       "       ['PARTICIPATION'],\n",
       "       ['PARTICIPATION'],\n",
       "       ['PARTICIPATION'],\n",
       "       ['PARTICIPATION'],\n",
       "       ['PARTICIPATION'],\n",
       "       ['PARTICIPATION'],\n",
       "       ['PARTICIPATION'],\n",
       "       ['PARTICIPATION'],\n",
       "       ['PARTICIPATION'],\n",
       "       ['PARTICIPATION'],\n",
       "       ['PARTICIPATION'],\n",
       "       ['PARTICIPATION'],\n",
       "       ['DISTINCTION'],\n",
       "       ['PARTICIPATION'],\n",
       "       ['COMPLETION'],\n",
       "       ['COMPLETION'],\n",
       "       ['PARTICIPATION'],\n",
       "       ['PARTICIPATION'],\n",
       "       ['PARTICIPATION'],\n",
       "       ['PARTICIPATION'],\n",
       "       ['PARTICIPATION'],\n",
       "       ['PARTICIPATION'],\n",
       "       ['COMPLETION'],\n",
       "       ['PARTICIPATION'],\n",
       "       ['PARTICIPATION'],\n",
       "       ['PARTICIPATION'],\n",
       "       ['PARTICIPATION'],\n",
       "       ['PARTICIPATION'],\n",
       "       ['PARTICIPATION'],\n",
       "       ['DISTINCTION'],\n",
       "       ['COMPLETION'],\n",
       "       ['PARTICIPATION'],\n",
       "       ['PARTICIPATION'],\n",
       "       ['PARTICIPATION'],\n",
       "       ['PARTICIPATION'],\n",
       "       ['PARTICIPATION'],\n",
       "       ['PARTICIPATION'],\n",
       "       ['PARTICIPATION'],\n",
       "       ['PARTICIPATION'],\n",
       "       ['PARTICIPATION'],\n",
       "       ['PARTICIPATION'],\n",
       "       ['PARTICIPATION'],\n",
       "       ['PARTICIPATION'],\n",
       "       ['DISTINCTION'],\n",
       "       ['PARTICIPATION'],\n",
       "       ['DISTINCTION'],\n",
       "       ['PARTICIPATION'],\n",
       "       ['PARTICIPATION'],\n",
       "       ['PARTICIPATION'],\n",
       "       ['PARTICIPATION'],\n",
       "       ['PARTICIPATION'],\n",
       "       ['PARTICIPATION'],\n",
       "       ['PARTICIPATION'],\n",
       "       ['PARTICIPATION'],\n",
       "       ['PARTICIPATION'],\n",
       "       ['PARTICIPATION'],\n",
       "       ['PARTICIPATION'],\n",
       "       ['COMPLETION'],\n",
       "       ['COMPLETION'],\n",
       "       ['COMPLETION'],\n",
       "       ['PARTICIPATION'],\n",
       "       ['PARTICIPATION'],\n",
       "       ['PARTICIPATION'],\n",
       "       ['PARTICIPATION'],\n",
       "       ['PARTICIPATION'],\n",
       "       ['PARTICIPATION'],\n",
       "       ['COMPLETION'],\n",
       "       ['PARTICIPATION'],\n",
       "       ['COMPLETION'],\n",
       "       ['DISTINCTION'],\n",
       "       ['DISTINCTION'],\n",
       "       ['COMPLETION'],\n",
       "       ['FIRST CLASS'],\n",
       "       ['COMPLETION'],\n",
       "       ['FIRST CLASS'],\n",
       "       ['COMPLETION'],\n",
       "       ['FIRST CLASS'],\n",
       "       ['COMPLETION'],\n",
       "       ['COMPLETION'],\n",
       "       ['FIRST CLASS'],\n",
       "       ['COMPLETION'],\n",
       "       ['COMPLETION'],\n",
       "       ['PARTICIPATION'],\n",
       "       ['COMPLETION'],\n",
       "       ['COMPLETION'],\n",
       "       ['FIRST CLASS'],\n",
       "       ['COMPLETION'],\n",
       "       ['FIRST CLASS'],\n",
       "       ['FIRST CLASS'],\n",
       "       ['COMPLETION'],\n",
       "       ['PARTICIPATION'],\n",
       "       ['DISTINCTION'],\n",
       "       ['PARTICIPATION'],\n",
       "       ['COMPLETION'],\n",
       "       ['FIRST CLASS'],\n",
       "       ['COMPLETION'],\n",
       "       ['DISTINCTION'],\n",
       "       ['COMPLETION'],\n",
       "       ['COMPLETION'],\n",
       "       ['COMPLETION'],\n",
       "       ['FIRST CLASS'],\n",
       "       ['FIRST CLASS'],\n",
       "       ['FIRST CLASS'],\n",
       "       ['COMPLETION'],\n",
       "       ['FIRST CLASS'],\n",
       "       ['FIRST CLASS'],\n",
       "       ['FIRST CLASS'],\n",
       "       ['COMPLETION'],\n",
       "       ['FIRST CLASS'],\n",
       "       ['FIRST CLASS'],\n",
       "       ['PARTICIPATION'],\n",
       "       ['COMPLETION'],\n",
       "       ['DISTINCTION'],\n",
       "       ['PARTICIPATION'],\n",
       "       ['FIRST CLASS'],\n",
       "       ['PARTICIPATION'],\n",
       "       ['PARTICIPATION'],\n",
       "       ['DISTINCTION'],\n",
       "       ['FIRST CLASS'],\n",
       "       ['DISTINCTION'],\n",
       "       ['COMPLETION'],\n",
       "       ['PARTICIPATION'],\n",
       "       ['FIRST CLASS'],\n",
       "       ['FIRST CLASS'],\n",
       "       ['FIRST CLASS'],\n",
       "       ['FIRST CLASS'],\n",
       "       ['PARTICIPATION'],\n",
       "       ['COMPLETION'],\n",
       "       ['COMPLETION'],\n",
       "       ['PARTICIPATION'],\n",
       "       ['PARTICIPATION'],\n",
       "       ['PARTICIPATION'],\n",
       "       ['COMPLETION'],\n",
       "       ['COMPLETION'],\n",
       "       ['COMPLETION'],\n",
       "       ['PARTICIPATION'],\n",
       "       ['PARTICIPATION'],\n",
       "       ['COMPLETION'],\n",
       "       ['PARTICIPATION'],\n",
       "       ['FIRST CLASS'],\n",
       "       ['COMPLETION'],\n",
       "       ['PARTICIPATION'],\n",
       "       ['PARTICIPATION'],\n",
       "       ['COMPLETION'],\n",
       "       ['PARTICIPATION'],\n",
       "       ['PARTICIPATION'],\n",
       "       ['PARTICIPATION'],\n",
       "       ['COMPLETION'],\n",
       "       ['PARTICIPATION'],\n",
       "       ['COMPLETION'],\n",
       "       ['PARTICIPATION'],\n",
       "       ['PARTICIPATION'],\n",
       "       ['PARTICIPATION'],\n",
       "       ['COMPLETION'],\n",
       "       ['COMPLETION'],\n",
       "       ['COMPLETION'],\n",
       "       ['COMPLETION'],\n",
       "       ['PARTICIPATION'],\n",
       "       ['PARTICIPATION'],\n",
       "       ['PARTICIPATION'],\n",
       "       ['COMPLETION'],\n",
       "       ['COMPLETION'],\n",
       "       ['PARTICIPATION'],\n",
       "       ['PARTICIPATION'],\n",
       "       ['COMPLETION'],\n",
       "       ['COMPLETION'],\n",
       "       ['PARTICIPATION'],\n",
       "       ['COMPLETION'],\n",
       "       ['COMPLETION'],\n",
       "       ['PARTICIPATION'],\n",
       "       ['COMPLETION'],\n",
       "       ['COMPLETION'],\n",
       "       ['PARTICIPATION'],\n",
       "       ['PARTICIPATION'],\n",
       "       ['FIRST CLASS'],\n",
       "       ['PARTICIPATION'],\n",
       "       ['PARTICIPATION'],\n",
       "       ['PARTICIPATION'],\n",
       "       ['COMPLETION'],\n",
       "       ['COMPLETION'],\n",
       "       ['PARTICIPATION'],\n",
       "       ['COMPLETION'],\n",
       "       ['COMPLETION'],\n",
       "       ['PARTICIPATION'],\n",
       "       ['PARTICIPATION'],\n",
       "       ['PARTICIPATION'],\n",
       "       ['COMPLETION'],\n",
       "       ['PARTICIPATION'],\n",
       "       ['COMPLETION'],\n",
       "       ['COMPLETION'],\n",
       "       ['PARTICIPATION'],\n",
       "       ['COMPLETION'],\n",
       "       ['PARTICIPATION'],\n",
       "       ['FIRST CLASS'],\n",
       "       ['FIRST CLASS'],\n",
       "       ['FIRST CLASS'],\n",
       "       ['FIRST CLASS'],\n",
       "       ['COMPLETION'],\n",
       "       ['COMPLETION'],\n",
       "       ['FIRST CLASS'],\n",
       "       ['PARTICIPATION'],\n",
       "       ['PARTICIPATION'],\n",
       "       ['FIRST CLASS'],\n",
       "       ['PARTICIPATION'],\n",
       "       ['COMPLETION'],\n",
       "       ['FIRST CLASS'],\n",
       "       ['COMPLETION'],\n",
       "       ['FIRST CLASS'],\n",
       "       ['PARTICIPATION'],\n",
       "       ['PARTICIPATION'],\n",
       "       ['PARTICIPATION'],\n",
       "       ['PARTICIPATION'],\n",
       "       ['PARTICIPATION'],\n",
       "       ['PARTICIPATION'],\n",
       "       ['PARTICIPATION'],\n",
       "       ['FIRST CLASS'],\n",
       "       ['COMPLETION'],\n",
       "       ['FIRST CLASS'],\n",
       "       ['COMPLETION'],\n",
       "       ['COMPLETION'],\n",
       "       ['PARTICIPATION'],\n",
       "       ['PARTICIPATION'],\n",
       "       ['COMPLETION'],\n",
       "       ['COMPLETION'],\n",
       "       ['COMPLETION'],\n",
       "       ['COMPLETION'],\n",
       "       ['COMPLETION'],\n",
       "       ['COMPLETION'],\n",
       "       ['PARTICIPATION'],\n",
       "       ['PARTICIPATION'],\n",
       "       ['PARTICIPATION'],\n",
       "       ['PARTICIPATION'],\n",
       "       ['PARTICIPATION'],\n",
       "       ['PARTICIPATION'],\n",
       "       ['PARTICIPATION'],\n",
       "       ['FIRST CLASS'],\n",
       "       ['COMPLETION'],\n",
       "       ['PARTICIPATION'],\n",
       "       ['PARTICIPATION'],\n",
       "       ['PARTICIPATION'],\n",
       "       ['COMPLETION'],\n",
       "       ['COMPLETION'],\n",
       "       ['PARTICIPATION'],\n",
       "       ['PARTICIPATION'],\n",
       "       ['COMPLETION'],\n",
       "       ['FIRST CLASS'],\n",
       "       ['PARTICIPATION'],\n",
       "       ['COMPLETION']], dtype=object)"
      ]
     },
     "execution_count": 22,
     "metadata": {},
     "output_type": "execute_result"
    }
   ],
   "source": [
    "y"
   ]
  },
  {
   "cell_type": "code",
   "execution_count": 23,
   "id": "6eaf7216",
   "metadata": {},
   "outputs": [],
   "source": [
    "x=student_certification.drop(['CERTIFICATE'],axis=1)"
   ]
  },
  {
   "cell_type": "code",
   "execution_count": 24,
   "id": "63d8bc91",
   "metadata": {},
   "outputs": [
    {
     "data": {
      "text/plain": [
       "(367, 3)"
      ]
     },
     "execution_count": 24,
     "metadata": {},
     "output_type": "execute_result"
    }
   ],
   "source": [
    "x.shape"
   ]
  },
  {
   "cell_type": "code",
   "execution_count": 25,
   "id": "3a7aaca7",
   "metadata": {},
   "outputs": [
    {
     "data": {
      "text/html": [
       "<div>\n",
       "<style scoped>\n",
       "    .dataframe tbody tr th:only-of-type {\n",
       "        vertical-align: middle;\n",
       "    }\n",
       "\n",
       "    .dataframe tbody tr th {\n",
       "        vertical-align: top;\n",
       "    }\n",
       "\n",
       "    .dataframe thead th {\n",
       "        text-align: right;\n",
       "    }\n",
       "</style>\n",
       "<table border=\"1\" class=\"dataframe\">\n",
       "  <thead>\n",
       "    <tr style=\"text-align: right;\">\n",
       "      <th></th>\n",
       "      <th>ATTENDANCE</th>\n",
       "      <th>THEORY EXAM</th>\n",
       "      <th>DAILY ASSESSMENT</th>\n",
       "    </tr>\n",
       "  </thead>\n",
       "  <tbody>\n",
       "    <tr>\n",
       "      <th>0</th>\n",
       "      <td>20.0</td>\n",
       "      <td>38.0</td>\n",
       "      <td>25.0</td>\n",
       "    </tr>\n",
       "    <tr>\n",
       "      <th>1</th>\n",
       "      <td>15.0</td>\n",
       "      <td>25.0</td>\n",
       "      <td>0.0</td>\n",
       "    </tr>\n",
       "    <tr>\n",
       "      <th>2</th>\n",
       "      <td>20.0</td>\n",
       "      <td>31.0</td>\n",
       "      <td>25.0</td>\n",
       "    </tr>\n",
       "    <tr>\n",
       "      <th>3</th>\n",
       "      <td>20.0</td>\n",
       "      <td>25.0</td>\n",
       "      <td>25.0</td>\n",
       "    </tr>\n",
       "    <tr>\n",
       "      <th>4</th>\n",
       "      <td>20.0</td>\n",
       "      <td>17.0</td>\n",
       "      <td>15.0</td>\n",
       "    </tr>\n",
       "    <tr>\n",
       "      <th>...</th>\n",
       "      <td>...</td>\n",
       "      <td>...</td>\n",
       "      <td>...</td>\n",
       "    </tr>\n",
       "    <tr>\n",
       "      <th>362</th>\n",
       "      <td>15.0</td>\n",
       "      <td>0.0</td>\n",
       "      <td>10.0</td>\n",
       "    </tr>\n",
       "    <tr>\n",
       "      <th>363</th>\n",
       "      <td>20.0</td>\n",
       "      <td>9.0</td>\n",
       "      <td>25.0</td>\n",
       "    </tr>\n",
       "    <tr>\n",
       "      <th>364</th>\n",
       "      <td>15.0</td>\n",
       "      <td>20.0</td>\n",
       "      <td>25.0</td>\n",
       "    </tr>\n",
       "    <tr>\n",
       "      <th>365</th>\n",
       "      <td>15.0</td>\n",
       "      <td>0.0</td>\n",
       "      <td>10.0</td>\n",
       "    </tr>\n",
       "    <tr>\n",
       "      <th>366</th>\n",
       "      <td>20.0</td>\n",
       "      <td>23.0</td>\n",
       "      <td>10.0</td>\n",
       "    </tr>\n",
       "  </tbody>\n",
       "</table>\n",
       "<p>367 rows × 3 columns</p>\n",
       "</div>"
      ],
      "text/plain": [
       "     ATTENDANCE  THEORY EXAM  DAILY ASSESSMENT\n",
       "0          20.0         38.0              25.0\n",
       "1          15.0         25.0               0.0\n",
       "2          20.0         31.0              25.0\n",
       "3          20.0         25.0              25.0\n",
       "4          20.0         17.0              15.0\n",
       "..          ...          ...               ...\n",
       "362        15.0          0.0              10.0\n",
       "363        20.0          9.0              25.0\n",
       "364        15.0         20.0              25.0\n",
       "365        15.0          0.0              10.0\n",
       "366        20.0         23.0              10.0\n",
       "\n",
       "[367 rows x 3 columns]"
      ]
     },
     "execution_count": 25,
     "metadata": {},
     "output_type": "execute_result"
    }
   ],
   "source": [
    "x"
   ]
  },
  {
   "cell_type": "code",
   "execution_count": 27,
   "id": "2582b9d7",
   "metadata": {},
   "outputs": [],
   "source": [
    "from sklearn.model_selection import train_test_split"
   ]
  },
  {
   "cell_type": "code",
   "execution_count": 28,
   "id": "2da77da6",
   "metadata": {},
   "outputs": [],
   "source": [
    "x_train, x_test,y_train,y_test=train_test_split(x,y,test_size=0.25, random_state=0)0"
   ]
  },
  {
   "cell_type": "code",
   "execution_count": 29,
   "id": "9447cadd",
   "metadata": {},
   "outputs": [
    {
     "data": {
      "text/plain": [
       "(275, 3)"
      ]
     },
     "execution_count": 29,
     "metadata": {},
     "output_type": "execute_result"
    }
   ],
   "source": [
    "x_train.shape"
   ]
  },
  {
   "cell_type": "code",
   "execution_count": 30,
   "id": "ab5fab08",
   "metadata": {},
   "outputs": [
    {
     "data": {
      "text/plain": [
       "(92, 3)"
      ]
     },
     "execution_count": 30,
     "metadata": {},
     "output_type": "execute_result"
    }
   ],
   "source": [
    "x_test.shape"
   ]
  },
  {
   "cell_type": "code",
   "execution_count": 31,
   "id": "4029a7c7",
   "metadata": {},
   "outputs": [
    {
     "data": {
      "text/plain": [
       "(275, 1)"
      ]
     },
     "execution_count": 31,
     "metadata": {},
     "output_type": "execute_result"
    }
   ],
   "source": [
    "y_train.shape"
   ]
  },
  {
   "cell_type": "code",
   "execution_count": 32,
   "id": "84232aef",
   "metadata": {},
   "outputs": [
    {
     "data": {
      "text/plain": [
       "(92, 1)"
      ]
     },
     "execution_count": 32,
     "metadata": {},
     "output_type": "execute_result"
    }
   ],
   "source": [
    "y_test.shape"
   ]
  },
  {
   "cell_type": "code",
   "execution_count": 33,
   "id": "649dd453",
   "metadata": {},
   "outputs": [],
   "source": [
    "from sklearn.tree import DecisionTreeClassifier"
   ]
  },
  {
   "cell_type": "code",
   "execution_count": 34,
   "id": "53918cbf",
   "metadata": {},
   "outputs": [],
   "source": [
    "DC=DecisionTreeClassifier(criterion='entropy')"
   ]
  },
  {
   "cell_type": "code",
   "execution_count": 35,
   "id": "d6c8a5ca",
   "metadata": {},
   "outputs": [
    {
     "data": {
      "text/plain": [
       "DecisionTreeClassifier(criterion='entropy')"
      ]
     },
     "execution_count": 35,
     "metadata": {},
     "output_type": "execute_result"
    }
   ],
   "source": [
    "DC.fit(x_train,y_train)"
   ]
  },
  {
   "cell_type": "code",
   "execution_count": 36,
   "id": "ca450042",
   "metadata": {},
   "outputs": [],
   "source": [
    "y_pred = DC.predict(x_test)"
   ]
  },
  {
   "cell_type": "code",
   "execution_count": 37,
   "id": "a10a6621",
   "metadata": {},
   "outputs": [
    {
     "data": {
      "text/plain": [
       "array(['PARTICIPATION', 'DISTINCTION', 'PARTICIPATION', 'FIRST CLASS',\n",
       "       'PARTICIPATION', 'PARTICIPATION', 'PARTICIPATION', 'PARTICIPATION',\n",
       "       'PARTICIPATION', 'COMPLETION', 'PARTICIPATION', 'COMPLETION',\n",
       "       'PARTICIPATION', 'DISTINCTION', 'COMPLETION', 'DISTINCTION',\n",
       "       'COMPLETION', 'FIRST CLASS', 'DISTINCTION', 'PARTICIPATION',\n",
       "       'PARTICIPATION', 'PARTICIPATION', 'DISTINCTION', 'FIRST CLASS',\n",
       "       'PARTICIPATION', 'PARTICIPATION', 'PARTICIPATION', 'COMPLETION',\n",
       "       'COMPLETION', 'FIRST CLASS', 'PARTICIPATION', 'FIRST CLASS',\n",
       "       'PARTICIPATION', 'COMPLETION', 'COMPLETION', 'COMPLETION',\n",
       "       'FIRST CLASS', 'PARTICIPATION', 'PARTICIPATION', 'COMPLETION',\n",
       "       'COMPLETION', 'PARTICIPATION', 'PARTICIPATION', 'PARTICIPATION',\n",
       "       'FIRST CLASS', 'COMPLETION', 'COMPLETION', 'COMPLETION',\n",
       "       'PARTICIPATION', 'PARTICIPATION', 'PARTICIPATION', 'FIRST CLASS',\n",
       "       'PARTICIPATION', 'FIRST CLASS', 'PARTICIPATION', 'PARTICIPATION',\n",
       "       'COMPLETION', 'PARTICIPATION', 'DISTINCTION', 'PARTICIPATION',\n",
       "       'FIRST CLASS', 'COMPLETION', 'DISTINCTION', 'FIRST CLASS',\n",
       "       'PARTICIPATION', 'COMPLETION', 'COMPLETION', 'PARTICIPATION',\n",
       "       'COMPLETION', 'PARTICIPATION', 'COMPLETION', 'PARTICIPATION',\n",
       "       'PARTICIPATION', 'COMPLETION', 'FIRST CLASS', 'COMPLETION',\n",
       "       'PARTICIPATION', 'COMPLETION', 'PARTICIPATION', 'PARTICIPATION',\n",
       "       'FIRST CLASS', 'PARTICIPATION', 'PARTICIPATION', 'PARTICIPATION',\n",
       "       'COMPLETION', 'COMPLETION', 'PARTICIPATION', 'FIRST CLASS',\n",
       "       'PARTICIPATION', 'COMPLETION', 'COMPLETION', 'COMPLETION'],\n",
       "      dtype=object)"
      ]
     },
     "execution_count": 37,
     "metadata": {},
     "output_type": "execute_result"
    }
   ],
   "source": [
    "y_pred"
   ]
  },
  {
   "cell_type": "code",
   "execution_count": 38,
   "id": "705b7d43",
   "metadata": {},
   "outputs": [],
   "source": [
    "final= pd.DataFrame(y_test, columns=['Actual'])"
   ]
  },
  {
   "cell_type": "code",
   "execution_count": 39,
   "id": "681279b1",
   "metadata": {},
   "outputs": [],
   "source": [
    "final['Predicted']=y_pred"
   ]
  },
  {
   "cell_type": "code",
   "execution_count": 40,
   "id": "59d47ce7",
   "metadata": {},
   "outputs": [
    {
     "data": {
      "text/html": [
       "<div>\n",
       "<style scoped>\n",
       "    .dataframe tbody tr th:only-of-type {\n",
       "        vertical-align: middle;\n",
       "    }\n",
       "\n",
       "    .dataframe tbody tr th {\n",
       "        vertical-align: top;\n",
       "    }\n",
       "\n",
       "    .dataframe thead th {\n",
       "        text-align: right;\n",
       "    }\n",
       "</style>\n",
       "<table border=\"1\" class=\"dataframe\">\n",
       "  <thead>\n",
       "    <tr style=\"text-align: right;\">\n",
       "      <th></th>\n",
       "      <th>Actual</th>\n",
       "      <th>Predicted</th>\n",
       "    </tr>\n",
       "  </thead>\n",
       "  <tbody>\n",
       "    <tr>\n",
       "      <th>0</th>\n",
       "      <td>PARTICIPATION</td>\n",
       "      <td>PARTICIPATION</td>\n",
       "    </tr>\n",
       "    <tr>\n",
       "      <th>1</th>\n",
       "      <td>COMPLETION</td>\n",
       "      <td>DISTINCTION</td>\n",
       "    </tr>\n",
       "    <tr>\n",
       "      <th>2</th>\n",
       "      <td>COMPLETION</td>\n",
       "      <td>PARTICIPATION</td>\n",
       "    </tr>\n",
       "    <tr>\n",
       "      <th>3</th>\n",
       "      <td>FIRST CLASS</td>\n",
       "      <td>FIRST CLASS</td>\n",
       "    </tr>\n",
       "    <tr>\n",
       "      <th>4</th>\n",
       "      <td>PARTICIPATION</td>\n",
       "      <td>PARTICIPATION</td>\n",
       "    </tr>\n",
       "    <tr>\n",
       "      <th>...</th>\n",
       "      <td>...</td>\n",
       "      <td>...</td>\n",
       "    </tr>\n",
       "    <tr>\n",
       "      <th>87</th>\n",
       "      <td>FIRST CLASS</td>\n",
       "      <td>FIRST CLASS</td>\n",
       "    </tr>\n",
       "    <tr>\n",
       "      <th>88</th>\n",
       "      <td>PARTICIPATION</td>\n",
       "      <td>PARTICIPATION</td>\n",
       "    </tr>\n",
       "    <tr>\n",
       "      <th>89</th>\n",
       "      <td>PARTICIPATION</td>\n",
       "      <td>COMPLETION</td>\n",
       "    </tr>\n",
       "    <tr>\n",
       "      <th>90</th>\n",
       "      <td>COMPLETION</td>\n",
       "      <td>COMPLETION</td>\n",
       "    </tr>\n",
       "    <tr>\n",
       "      <th>91</th>\n",
       "      <td>FIRST CLASS</td>\n",
       "      <td>COMPLETION</td>\n",
       "    </tr>\n",
       "  </tbody>\n",
       "</table>\n",
       "<p>92 rows × 2 columns</p>\n",
       "</div>"
      ],
      "text/plain": [
       "           Actual      Predicted\n",
       "0   PARTICIPATION  PARTICIPATION\n",
       "1      COMPLETION    DISTINCTION\n",
       "2      COMPLETION  PARTICIPATION\n",
       "3     FIRST CLASS    FIRST CLASS\n",
       "4   PARTICIPATION  PARTICIPATION\n",
       "..            ...            ...\n",
       "87    FIRST CLASS    FIRST CLASS\n",
       "88  PARTICIPATION  PARTICIPATION\n",
       "89  PARTICIPATION     COMPLETION\n",
       "90     COMPLETION     COMPLETION\n",
       "91    FIRST CLASS     COMPLETION\n",
       "\n",
       "[92 rows x 2 columns]"
      ]
     },
     "execution_count": 40,
     "metadata": {},
     "output_type": "execute_result"
    }
   ],
   "source": [
    "final"
   ]
  },
  {
   "cell_type": "code",
   "execution_count": 41,
   "id": "4d25630e",
   "metadata": {},
   "outputs": [
    {
     "data": {
      "text/plain": [
       "Actual\n",
       "COMPLETION       23\n",
       "DISTINCTION       7\n",
       "FIRST CLASS      18\n",
       "PARTICIPATION    44\n",
       "dtype: int64"
      ]
     },
     "execution_count": 41,
     "metadata": {},
     "output_type": "execute_result"
    }
   ],
   "source": [
    "final.groupby('Actual').size()"
   ]
  },
  {
   "cell_type": "code",
   "execution_count": 43,
   "id": "4d79a245",
   "metadata": {},
   "outputs": [
    {
     "data": {
      "text/plain": [
       "Predicted\n",
       "COMPLETION       28\n",
       "DISTINCTION       7\n",
       "FIRST CLASS      14\n",
       "PARTICIPATION    43\n",
       "dtype: int64"
      ]
     },
     "execution_count": 43,
     "metadata": {},
     "output_type": "execute_result"
    }
   ],
   "source": [
    "final.groupby(\"Predicted\").size()"
   ]
  },
  {
   "cell_type": "code",
   "execution_count": 45,
   "id": "e7f39d0d",
   "metadata": {},
   "outputs": [
    {
     "data": {
      "text/plain": [
       "<AxesSubplot:xlabel='Actual', ylabel='count'>"
      ]
     },
     "execution_count": 45,
     "metadata": {},
     "output_type": "execute_result"
    },
    {
     "data": {
      "image/png": "[encoded data removed]",
      "text/plain": [
       "<Figure size 432x288 with 1 Axes>"
      ]
     },
     "metadata": {
      "needs_background": "light"
     },
     "output_type": "display_data"
    }
   ],
   "source": [
    "sns.countplot(final['Actual'],label='count')"
   ]
  },
  {
   "cell_type": "code",
   "execution_count": 46,
   "id": "e223975a",
   "metadata": {},
   "outputs": [
    {
     "data": {
      "text/plain": [
       "<AxesSubplot:xlabel='Predicted', ylabel='count'>"
      ]
     },
     "execution_count": 46,
     "metadata": {},
     "output_type": "execute_result"
    },
    {
     "data": {
      "image/png": "[encoded data removed]",
      "text/plain": [
       "<Figure size 432x288 with 1 Axes>"
      ]
     },
     "metadata": {
      "needs_background": "light"
     },
     "output_type": "display_data"
    }
   ],
   "source": [
    "sns.countplot(final['Predicted'],label='count')"
   ]
  },
  {
   "cell_type": "code",
   "execution_count": 47,
   "id": "aeb5b552",
   "metadata": {},
   "outputs": [],
   "source": [
    "from sklearn.metrics import accuracy_score, confusion_matrix"
   ]
  },
  {
   "cell_type": "code",
   "execution_count": 48,
   "id": "34f4a451",
   "metadata": {},
   "outputs": [],
   "source": [
    "acc=accuracy_score(y_test, y_pred)"
   ]
  },
  {
   "cell_type": "code",
   "execution_count": 49,
   "id": "fb095596",
   "metadata": {},
   "outputs": [
    {
     "data": {
      "text/plain": [
       "0.6847826086956522"
      ]
     },
     "execution_count": 49,
     "metadata": {},
     "output_type": "execute_result"
    }
   ],
   "source": [
    "acc"
   ]
  },
  {
   "cell_type": "code",
   "execution_count": 50,
   "id": "56aa52a9",
   "metadata": {},
   "outputs": [],
   "source": [
    "z=confusion_matrix(y_test,y_pred)"
   ]
  },
  {
   "cell_type": "code",
   "execution_count": 51,
   "id": "0a5d13a1",
   "metadata": {},
   "outputs": [
    {
     "data": {
      "text/plain": [
       "array([[15,  2,  1,  5],\n",
       "       [ 0,  2,  5,  0],\n",
       "       [ 7,  3,  8,  0],\n",
       "       [ 6,  0,  0, 38]], dtype=int64)"
      ]
     },
     "execution_count": 51,
     "metadata": {},
     "output_type": "execute_result"
    }
   ],
   "source": [
    "z"
   ]
  },
  {
   "cell_type": "code",
   "execution_count": 52,
   "id": "09b7ee2c",
   "metadata": {},
   "outputs": [],
   "source": [
    "mat = pd.DataFrame(z,columns =['Participation','Completion','First class','Distinction'],index = ['Participation','Completion','First class','Distinction'])"
   ]
  },
  {
   "cell_type": "code",
   "execution_count": 53,
   "id": "5e31e51c",
   "metadata": {},
   "outputs": [
    {
     "data": {
      "text/html": [
       "<div>\n",
       "<style scoped>\n",
       "    .dataframe tbody tr th:only-of-type {\n",
       "        vertical-align: middle;\n",
       "    }\n",
       "\n",
       "    .dataframe tbody tr th {\n",
       "        vertical-align: top;\n",
       "    }\n",
       "\n",
       "    .dataframe thead th {\n",
       "        text-align: right;\n",
       "    }\n",
       "</style>\n",
       "<table border=\"1\" class=\"dataframe\">\n",
       "  <thead>\n",
       "    <tr style=\"text-align: right;\">\n",
       "      <th></th>\n",
       "      <th>Participation</th>\n",
       "      <th>Completion</th>\n",
       "      <th>First class</th>\n",
       "      <th>Distinction</th>\n",
       "    </tr>\n",
       "  </thead>\n",
       "  <tbody>\n",
       "    <tr>\n",
       "      <th>Participation</th>\n",
       "      <td>15</td>\n",
       "      <td>2</td>\n",
       "      <td>1</td>\n",
       "      <td>5</td>\n",
       "    </tr>\n",
       "    <tr>\n",
       "      <th>Completion</th>\n",
       "      <td>0</td>\n",
       "      <td>2</td>\n",
       "      <td>5</td>\n",
       "      <td>0</td>\n",
       "    </tr>\n",
       "    <tr>\n",
       "      <th>First class</th>\n",
       "      <td>7</td>\n",
       "      <td>3</td>\n",
       "      <td>8</td>\n",
       "      <td>0</td>\n",
       "    </tr>\n",
       "    <tr>\n",
       "      <th>Distinction</th>\n",
       "      <td>6</td>\n",
       "      <td>0</td>\n",
       "      <td>0</td>\n",
       "      <td>38</td>\n",
       "    </tr>\n",
       "  </tbody>\n",
       "</table>\n",
       "</div>"
      ],
      "text/plain": [
       "               Participation  Completion  First class  Distinction\n",
       "Participation             15           2            1            5\n",
       "Completion                 0           2            5            0\n",
       "First class                7           3            8            0\n",
       "Distinction                6           0            0           38"
      ]
     },
     "execution_count": 53,
     "metadata": {},
     "output_type": "execute_result"
    }
   ],
   "source": [
    "mat"
   ]
  },
  {
   "cell_type": "code",
   "execution_count": null,
   "id": "7d04c574",
   "metadata": {},
   "outputs": [],
   "source": []
  }
 ],
 "metadata": {
  "kernelspec": {
   "display_name": "Python 3",
   "language": "python",
   "name": "python3"
  },
  "language_info": {
   "codemirror_mode": {
    "name": "ipython",
    "version": 3
   },
   "file_extension": ".py",
   "mimetype": "text/x-python",
   "name": "python",
   "nbconvert_exporter": "python",
   "pygments_lexer": "ipython3",
   "version": "3.9.4"
  }
 },
 "nbformat": 4,
 "nbformat_minor": 5
}
