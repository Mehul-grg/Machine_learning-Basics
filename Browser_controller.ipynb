{
  "nbformat": 4,
  "nbformat_minor": 0,
  "metadata": {
    "colab": {
      "name": "Browser_controller.ipynb",
      "provenance": [],
      "authorship_tag": "ABX9TyM5pyGhLjy+zyTCChIs7/ky"
    },
    "kernelspec": {
      "name": "python3",
      "display_name": "Python 3"
    },
    "language_info": {
      "name": "python"
    }
  },
  "cells": [
    {
      "cell_type": "code",
      "execution_count": 1,
      "metadata": {
        "id": "ebIYp9u-LvEZ"
      },
      "outputs": [],
      "source": [
        "import cv2\n",
        "import numpy as np\n",
        "import math\n",
        "import webbrowser as wb\n",
        "import os"
      ]
    },
    {
      "cell_type": "code",
      "source": [
        "print(\"Enter full website for\")\n",
        "print(\"\\n2 fingers\")"
      ],
      "metadata": {
        "id": "cb-X4anJMsYb"
      },
      "execution_count": null,
      "outputs": []
    },
    {
      "cell_type": "code",
      "source": [
        "fingers2=input()"
      ],
      "metadata": {
        "id": "QsBjvULuM5AS"
      },
      "execution_count": null,
      "outputs": []
    },
    {
      "cell_type": "code",
      "source": [
        "print(\"\\n3 fingers\")"
      ],
      "metadata": {
        "id": "XLl7enf6NAqS"
      },
      "execution_count": null,
      "outputs": []
    },
    {
      "cell_type": "code",
      "source": [
        "fingers3=input()"
      ],
      "metadata": {
        "id": "FndDcOkuNMIp"
      },
      "execution_count": null,
      "outputs": []
    },
    {
      "cell_type": "code",
      "source": [
        "print(\"\\n4 fingers\")"
      ],
      "metadata": {
        "id": "xhByYxU_NP_5"
      },
      "execution_count": null,
      "outputs": []
    },
    {
      "cell_type": "code",
      "source": [
        "fingers4=input()"
      ],
      "metadata": {
        "id": "Be2QBbCYO4Sa"
      },
      "execution_count": null,
      "outputs": []
    },
    {
      "cell_type": "code",
      "source": [
        "tabs=0\n",
        "count=0"
      ],
      "metadata": {
        "id": "YlPU2MV5Pu_o"
      },
      "execution_count": 8,
      "outputs": []
    },
    {
      "cell_type": "code",
      "source": [
        "cap=cv2.VideoCapture(0)"
      ],
      "metadata": {
        "id": "o4wr1_nrP4Pp"
      },
      "execution_count": 9,
      "outputs": []
    },
    {
      "cell_type": "code",
      "source": [
        "while(cap.isOpened()):\n",
        "  ret,img=cap.read()\n",
        "  cv2.rectangle(img,(400,400),(100,100),(0,255,0),0)\n",
        "  crop_img=img[100:400, 100:400]\n",
        "\n",
        "\n"
      ],
      "metadata": {
        "id": "XTV8nfOrgBMp"
      },
      "execution_count": 10,
      "outputs": []
    },
    {
      "cell_type": "code",
      "source": [
        "grey = cv2.cvtColor(crop_img, cv2.COLOR_BGR2GRAY)\n",
        "value=(35,35)\n",
        "blurred=cv2.GaussianBlur(grey,value,0)\n",
        "_,tresh1=cv2.threshold(blurred,127,255,cv2.THRESH_BINARY_INV+cv2.THRESH_OTSU)"
      ],
      "metadata": {
        "id": "D5PjxDFDgSId"
      },
      "execution_count": null,
      "outputs": []
    },
    {
      "cell_type": "code",
      "source": [
        "cv2.imshow(\"Thresholed\", thresh1)\n",
        "(version, _, _)=cv2.__version__.split(\"_\")"
      ],
      "metadata": {
        "id": "kNtr77-khpWB"
      },
      "execution_count": null,
      "outputs": []
    },
    {
      "cell_type": "code",
      "source": [
        "if version ==\"3\":\n",
        "  image,contours,heirarchy=cv2.findContours(thresh1.copy(),cv2.RETR_TREE,\\cv2.RETR_TREE,cv2.CHAIN_APPROX_NONE)\n",
        "elif version==\"2\":\n",
        "  contours,hierarchy=cv2.findContours(thresh1.copy(),cv2.RETR_TREE,\\cv2.CHAIN_APPROX_NONE)"
      ],
      "metadata": {
        "id": "h7ohDxyWXe1g"
      },
      "execution_count": null,
      "outputs": []
    },
    {
      "cell_type": "code",
      "source": [
        "cnt=max(contours,key=lambda x:cv2.contourArea(x))\n",
        "x,y,w,h=cv2.boundingRect(cnt)\n",
        "cv2.rectangle(crop_img,(x,y),(x+w,y+h),(0,0,255),0)\n",
        "hull=cv2.convexHull(cnt)\n",
        "drawing=np.zeros(crop_img.shape,np.uint8)\n",
        "cv2.drawContours(drawing,[cnt],0,(0,255,0),0)\n",
        "cv2.drawContours(drawing,[hull],0,(0,0,255),0)\n",
        "hull=cv2.convexHull(cnt,returnPoints=False)"
      ],
      "metadata": {
        "id": "7a3_ZCSmZUkj"
      },
      "execution_count": null,
      "outputs": []
    }
  ]
}